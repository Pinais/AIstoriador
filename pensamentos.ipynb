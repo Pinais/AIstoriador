{
 "cells": [
  {
   "cell_type": "markdown",
   "metadata": {},
   "source": [
    "# Anotações iniciais (fevereiro ou antes)"
   ]
  },
  {
   "cell_type": "code",
   "execution_count": null,
   "metadata": {},
   "outputs": [],
   "source": [
    "#Etapas do Processo e pontos criticos de cada etapa \n",
    "#Escala de Cinza\n",
    "#Binarização\n",
    "#Remoção de Ruido \n",
    "#Segmentação Linha\n",
    "#Esqueletização\n",
    "#Segmentação de Palavra\n",
    "#Segmnetação de Caracteres\n"
   ]
  },
  {
   "cell_type": "code",
   "execution_count": null,
   "metadata": {},
   "outputs": [],
   "source": [
    "#Escala de Cinza  #Binarização  #Remoção de Ruido nao aconteceu\n",
    "\n",
    "##Foi utilizado uma função do proprio OpenCV\n",
    "##OBS: a depender das imagens é necessário aplicar metodos de Redução de ruido\n",
    "###Diferentes tecnicas de transformação em escala de cinza ou binarização pode gerar resultados melhores a depender das imagens a serem analisadas"
   ]
  },
  {
   "cell_type": "code",
   "execution_count": null,
   "metadata": {},
   "outputs": [],
   "source": [
    "#Segmentação Linha\n",
    "\n",
    "## Foi utilizada uma tecnica simples de detecção de conjunto de linhas brnacas que represetam quebra de linha\n",
    "## Para o conjunto de imagens finais, essa tecnica nao irá funcionar pois muitas vezes uma linha invade o espaço de outra \n",
    "## Possiveis Solução: ao inves de ser linhas totalmente brancas, utilizar tecnicna de densidade de pixels\n",
    " "
   ]
  },
  {
   "cell_type": "code",
   "execution_count": null,
   "metadata": {},
   "outputs": [],
   "source": [
    "#Esqueletização\n",
    "\n",
    "##IMAGEJ"
   ]
  },
  {
   "cell_type": "markdown",
   "metadata": {},
   "source": [
    "# 06/05/24 reunião sem Fabio\n"
   ]
  },
  {
   "cell_type": "code",
   "execution_count": null,
   "metadata": {},
   "outputs": [],
   "source": [
    "#Segmentação de Palavra\n",
    "\n",
    "## Foi utilizada a mesma tecnica de separação de linha mas com colunas verticais, porem ja apresentou problemas \n",
    "## Solução a se implementar nesse conjunto, tecninca sem nome (ligar linhas paralelas superiores a inferiores)\n",
    "## Componenter Conexos \n",
    "\n",
    "####################################################\n",
    "# pular a etapa de seguimentação de caracter\n",
    "## ________________________________________________\n",
    "## gerar BD de conjunto de 3 letras 25*24*25 = 15000\n",
    "## Rede Neural mapeando automaticamente o conjunto \n",
    "\n",
    "\n",
    "#Fontes\n",
    "## Mistral Regular\n",
    "## Palace Script MT Italico\n",
    "## Rage Italico\n",
    "## Script Regular\n",
    "## Script MT Negrito"
   ]
  }
 ],
 "metadata": {
  "language_info": {
   "name": "python"
  }
 },
 "nbformat": 4,
 "nbformat_minor": 2
}
