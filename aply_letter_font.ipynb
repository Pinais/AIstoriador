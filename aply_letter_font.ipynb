{
 "cells": [
  {
   "cell_type": "code",
   "execution_count": 2,
   "metadata": {},
   "outputs": [],
   "source": [
    "#pip install pillow matplotlib"
   ]
  },
  {
   "cell_type": "code",
   "execution_count": 6,
   "metadata": {},
   "outputs": [],
   "source": [
    "from PIL import Image, ImageDraw, ImageFont\n",
    "import os\n",
    "\n",
    "# Diretório onde suas fontes .ttf estão localizadas\n",
    "font_dir = \"/fontes\"\n",
    "# Diretório onde você deseja salvar as imagens\n",
    "output_dir = font_dir\n",
    "# Certifique-se de que o diretório de saída existe\n",
    "os.makedirs(output_dir, exist_ok=True)\n",
    "\n",
    "# Função para ler o texto de um arquivo\n",
    "def read_text_from_file(file_path):\n",
    "    with open(file_path, 'r', encoding='utf-8') as file:\n",
    "        return file.read()\n",
    "\n",
    "# Texto que você deseja processar\n",
    "text = read_text_from_file(\"text_test.txt\")\n",
    "\n",
    "# Função para dividir o texto em palavras\n",
    "def split_text(text):\n",
    "    return text.split()\n",
    "\n",
    "# Carregar todas as fontes do diretório especificado\n",
    "fonts = [os.path.join(font_dir, font) for font in os.listdir(font_dir) if font.endswith(\".ttf\")]\n",
    "\n",
    "# Função para renderizar texto com diferentes fontes e salvar cada palavra como imagem\n",
    "def render_and_save_text(text, fonts, output_dir):\n",
    "    words = split_text(text)\n",
    "    for font_path in fonts:\n",
    "        font_name = os.path.splitext(os.path.basename(font_path))[0]\n",
    "        for word in words:\n",
    "            # Carregar a fonte\n",
    "            font = ImageFont.truetype(font_path, size=40)\n",
    "            # Criar uma imagem em branco\n",
    "            image = Image.new('RGB', (200, 100), color=(255, 255, 255))\n",
    "            draw = ImageDraw.Draw(image)\n",
    "            # Medir o tamanho do texto\n",
    "            text_width, text_height = draw.textsize(word, font=font)\n",
    "            # Redimensionar a imagem para caber o texto\n",
    "            image = image.resize((text_width + 20, text_height + 20))\n",
    "            draw = ImageDraw.Draw(image)\n",
    "            # Desenhar o texto na imagem\n",
    "            draw.text((10, 10), word, font=font, fill=(0, 0, 0))\n",
    "            # Salvar a imagem\n",
    "            output_path = os.path.join(output_dir, f\"{font_name}_{word}.png\")\n",
    "            image.save(output_path)\n",
    "            print(f\"Salvo: {output_path}\")\n",
    "\n",
    "render_and_save_text(text, fonts, output_dir)\n"
   ]
  }
 ],
 "metadata": {
  "kernelspec": {
   "display_name": "Python 3",
   "language": "python",
   "name": "python3"
  },
  "language_info": {
   "codemirror_mode": {
    "name": "ipython",
    "version": 3
   },
   "file_extension": ".py",
   "mimetype": "text/x-python",
   "name": "python",
   "nbconvert_exporter": "python",
   "pygments_lexer": "ipython3",
   "version": "3.11.4"
  }
 },
 "nbformat": 4,
 "nbformat_minor": 2
}
