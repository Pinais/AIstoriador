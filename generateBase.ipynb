{
 "cells": [
  {
   "cell_type": "markdown",
   "metadata": {},
   "source": [
    "# Gerador da base de dados\n",
    "A bases de dados possui combinações de todas as letras maiúsculas e minúsculas do alfabeto, em grupos de 3 em 3 letras espaçadas com 3 espaços em branco entre elas.\n",
    "Ao final de cada sequência de 24 letras é adicionada uma quebra de linha.\n",
    "\n",
    "A idéia é que o código gera esse texto contendo combinações em diversas fontes, e possa gerar fontes e bases novas com facilidade e poucos ajustes."
   ]
  },
  {
   "cell_type": "markdown",
   "metadata": {},
   "source": [
    "## Definindo a base de caracteres a ser combinada."
   ]
  },
  {
   "cell_type": "code",
   "execution_count": 67,
   "metadata": {},
   "outputs": [
    {
     "name": "stdout",
     "output_type": "stream",
     "text": [
      "['A', 'B', 'C', 'D', 'E', 'F', 'G', 'H', 'I', 'J', 'K', 'L', 'M', 'N', 'O', 'P', 'Q', 'R', 'S', 'T', 'U', 'V', 'W', 'X', 'Y', 'Z', 'a', 'b', 'c', 'd', 'e', 'f', 'g', 'h', 'i', 'j', 'k', 'l', 'm', 'n', 'o', 'p', 'q', 'r', 's', 't', 'u', 'v', 'w', 'x', 'y', 'z']\n"
     ]
    }
   ],
   "source": [
    "uppercase_letters = ['A', 'B', 'C', 'D', 'E', 'F', 'G', 'H', 'I', 'J', 'K', 'L', 'M', 'N', 'O', 'P', 'Q', 'R', 'S', 'T', 'U', 'V', 'W', 'X', 'Y', 'Z']\n",
    "\n",
    "lowercase_letters = ['a', 'b', 'c', 'd', 'e', 'f', 'g', 'h', 'i', 'j', 'k', 'l', 'm', 'n', 'o', 'p', 'q', 'r', 's', 't', 'u', 'v', 'w', 'x', 'y', 'z']\n",
    "\n",
    "special = ['Ç','ç']\n",
    "\n",
    "final_set = uppercase_letters + lowercase_letters# + special\n",
    "print(final_set)"
   ]
  },
  {
   "cell_type": "markdown",
   "metadata": {},
   "source": [
    "## Definindo a expressão que separa as combinações"
   ]
  },
  {
   "cell_type": "code",
   "execution_count": 68,
   "metadata": {},
   "outputs": [],
   "source": [
    "separator = \"   \""
   ]
  },
  {
   "cell_type": "markdown",
   "metadata": {},
   "source": [
    "## Função algoritmica"
   ]
  },
  {
   "cell_type": "markdown",
   "metadata": {},
   "source": [
    "\n",
    "### Direta:\n",
    "Gera combinações de 3 letras a partir de uma base e um separador.\n",
    "Cada linha contém metade do set de combinações."
   ]
  },
  {
   "cell_type": "code",
   "execution_count": 69,
   "metadata": {},
   "outputs": [],
   "source": [
    "def make_text(letters_array, separator):\n",
    "    last_item = len(letters_array)-1\n",
    "    middle_item = int((last_item-1)/2)\n",
    "    text = \"\"\n",
    "\n",
    "    for letter in letters_array:\n",
    "        for scnd_letter in letters_array:\n",
    "            for i, trd_letter in enumerate(letters_array):\n",
    "                text += separator + letter + scnd_letter + trd_letter\n",
    "                if i == middle_item or i == last_item: text += \"\\n\"\n",
    "    \n",
    "    return(text)"
   ]
  },
  {
   "cell_type": "code",
   "execution_count": 70,
   "metadata": {},
   "outputs": [],
   "source": [
    "new_text = make_text(final_set, separator)\n",
    "with open(\"algo_text.txt\",\"w\") as txtfile:\n",
    "    txtfile.write(new_text)"
   ]
  },
  {
   "cell_type": "markdown",
   "metadata": {},
   "source": [
    "### Procedural:\n"
   ]
  },
  {
   "cell_type": "code",
   "execution_count": 71,
   "metadata": {},
   "outputs": [],
   "source": [
    "def make_text_procedural(size = 3, previous_text=\"\"):\n",
    "    text = \"\"\n",
    "    if size == 0:\n",
    "        last_item = len(final_set)-1\n",
    "        middle_item = int((last_item-1)/2)\n",
    "        for i, last_letter in enumerate(final_set):\n",
    "            text += separator + previous_text + last_letter\n",
    "            if i == middle_item or i == last_item: text += \"\\n\"\n",
    "        with open(\"proceduralText.txt\", 'a') as txtfile:\n",
    "            txtfile.write(text)\n",
    "        return\n",
    "    elif size > 0:\n",
    "        for curr_letter in final_set:\n",
    "            current_combination = previous_text + curr_letter\n",
    "            make_text_procedural(size-1, current_combination)\n",
    "        return\n"
   ]
  },
  {
   "cell_type": "code",
   "execution_count": 76,
   "metadata": {},
   "outputs": [],
   "source": [
    "with open(\"proceduralText.txt\", 'w') as txtfile:\n",
    "            txtfile.write(\"\")\n",
    "make_text_procedural(2)\n"
   ]
  }
 ],
 "metadata": {
  "kernelspec": {
   "display_name": "Python 3",
   "language": "python",
   "name": "python3"
  },
  "language_info": {
   "codemirror_mode": {
    "name": "ipython",
    "version": 3
   },
   "file_extension": ".py",
   "mimetype": "text/x-python",
   "name": "python",
   "nbconvert_exporter": "python",
   "pygments_lexer": "ipython3",
   "version": "3.12.2"
  }
 },
 "nbformat": 4,
 "nbformat_minor": 2
}
